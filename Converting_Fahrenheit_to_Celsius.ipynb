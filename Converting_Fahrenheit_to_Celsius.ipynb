{
  "nbformat": 4,
  "nbformat_minor": 0,
  "metadata": {
    "colab": {
      "name": "Copy of Copy of Converting Fahrenheit to Celsius.ipynb",
      "provenance": [],
      "collapsed_sections": [],
      "authorship_tag": "ABX9TyPCJ2N7h5juKL7yrQI7Xxek",
      "include_colab_link": true
    },
    "kernelspec": {
      "name": "python3",
      "display_name": "Python 3"
    },
    "language_info": {
      "name": "python"
    }
  },
  "cells": [
    {
      "cell_type": "markdown",
      "metadata": {
        "id": "view-in-github",
        "colab_type": "text"
      },
      "source": [
        "<a href=\"https://colab.research.google.com/github/vapaul10/always_learning/blob/master/Converting_Fahrenheit_to_Celsius.ipynb\" target=\"_parent\"><img src=\"https://colab.research.google.com/assets/colab-badge.svg\" alt=\"Open In Colab\"/></a>"
      ]
    },
    {
      "cell_type": "code",
      "execution_count": null,
      "metadata": {
        "id": "uSZy8o-7625W",
        "colab": {
          "base_uri": "https://localhost:8080/"
        },
        "outputId": "e96e41fa-1702-4ce4-9255-28d643b964ae"
      },
      "outputs": [
        {
          "output_type": "stream",
          "name": "stdout",
          "text": [
            "Choose from below options:\n",
            "1.Celsius to Fahrenheit.\n",
            "2.Fahrenheit to Celsius.\n",
            "option(1/2):1\n",
            "Temperature in Celsius:33\n",
            "Temperature in Fahrenheit: 91.4\n"
          ]
        }
      ],
      "source": [
        "# User Interface for Converting Fahrenheit to Celsius\n",
        "# The Convert Temperature program   p. 120-121 Murach Python book\n",
        "# from temperature import temperature as temp\n",
        "# import temperature\n",
        "print(\"Choose from below options:\")\n",
        "print(\"1.Celsius to Fahrenheit.\")\n",
        "print(\"2.Fahrenheit to Celsius.\")\n",
        "o=int(input(\"option(1/2):\"))\n",
        "if(o==1):\n",
        "    c=float(input(\"Temperature in Celsius:\"))\n",
        "    f=1.8*(c)+32.0\n",
        "    f=round(f,1) #temperature in fahrenheit precise to 1 decimal place\n",
        "    print(\"Temperature in Fahrenheit:\",f)\n",
        "elif(o==2):\n",
        "    f=float(input(\"Temperature in Fahrenheit:\"))\n",
        "    c=(f-32)/1.8\n",
        "    c=round(c,1) #temperature in celsius precise to 1 decimal place\n",
        "    print(\"Temperature in Celsius:\",c)\n",
        "else:\n",
        "    print(\"Choose 1 or 2.\")"
      ]
    },
    {
      "cell_type": "code",
      "source": [
        "import temperature\n",
        "\n",
        "c = temperature.to_celsius(f)\n",
        "f = temperature.to_fahrenheit(c)"
      ],
      "metadata": {
        "id": "s20I1fWe_w-B",
        "colab": {
          "base_uri": "https://localhost:8080/",
          "height": 370
        },
        "outputId": "f78f279c-8812-46af-c0b0-0d5bb596baff"
      },
      "execution_count": null,
      "outputs": [
        {
          "output_type": "error",
          "ename": "ModuleNotFoundError",
          "evalue": "ignored",
          "traceback": [
            "\u001b[0;31m---------------------------------------------------------------------------\u001b[0m",
            "\u001b[0;31mModuleNotFoundError\u001b[0m                       Traceback (most recent call last)",
            "\u001b[0;32m<ipython-input-3-6b2d0c706700>\u001b[0m in \u001b[0;36m<module>\u001b[0;34m()\u001b[0m\n\u001b[0;32m----> 1\u001b[0;31m \u001b[0;32mimport\u001b[0m \u001b[0mtemperature\u001b[0m\u001b[0;34m\u001b[0m\u001b[0;34m\u001b[0m\u001b[0m\n\u001b[0m\u001b[1;32m      2\u001b[0m \u001b[0;34m\u001b[0m\u001b[0m\n\u001b[1;32m      3\u001b[0m \u001b[0mc\u001b[0m \u001b[0;34m=\u001b[0m \u001b[0mtemperature\u001b[0m\u001b[0;34m.\u001b[0m\u001b[0mto_celsius\u001b[0m\u001b[0;34m(\u001b[0m\u001b[0mf\u001b[0m\u001b[0;34m)\u001b[0m\u001b[0;34m\u001b[0m\u001b[0;34m\u001b[0m\u001b[0m\n\u001b[1;32m      4\u001b[0m \u001b[0mf\u001b[0m \u001b[0;34m=\u001b[0m \u001b[0mtemperature\u001b[0m\u001b[0;34m.\u001b[0m\u001b[0mto_fahrenheit\u001b[0m\u001b[0;34m(\u001b[0m\u001b[0mc\u001b[0m\u001b[0;34m)\u001b[0m\u001b[0;34m\u001b[0m\u001b[0;34m\u001b[0m\u001b[0m\n",
            "\u001b[0;31mModuleNotFoundError\u001b[0m: No module named 'temperature'",
            "",
            "\u001b[0;31m---------------------------------------------------------------------------\u001b[0;32m\nNOTE: If your import is failing due to a missing package, you can\nmanually install dependencies using either !pip or !apt.\n\nTo view examples of installing some common dependencies, click the\n\"Open Examples\" button below.\n\u001b[0;31m---------------------------------------------------------------------------\u001b[0m\n"
          ],
          "errorDetails": {
            "actions": [
              {
                "action": "open_url",
                "actionText": "Open Examples",
                "url": "/notebooks/snippets/importing_libraries.ipynb"
              }
            ]
          }
        }
      ]
    },
    {
      "cell_type": "code",
      "source": [
        "import temperature as temp"
      ],
      "metadata": {
        "id": "UDVH_ll-ACpg"
      },
      "execution_count": null,
      "outputs": []
    },
    {
      "cell_type": "code",
      "source": [
        "c = temp.to_celsius(f)\n",
        "f = temp.to_fahrenheit(c)"
      ],
      "metadata": {
        "id": "GblWHQ-gAJI-",
        "colab": {
          "base_uri": "https://localhost:8080/",
          "height": 189
        },
        "outputId": "3c4ba42c-539f-4e84-a66e-65fb1f5cc9f8"
      },
      "execution_count": null,
      "outputs": [
        {
          "output_type": "error",
          "ename": "NameError",
          "evalue": "ignored",
          "traceback": [
            "\u001b[0;31m---------------------------------------------------------------------------\u001b[0m",
            "\u001b[0;31mNameError\u001b[0m                                 Traceback (most recent call last)",
            "\u001b[0;32m<ipython-input-6-d8fdb7b1f97f>\u001b[0m in \u001b[0;36m<module>\u001b[0;34m()\u001b[0m\n\u001b[0;32m----> 1\u001b[0;31m \u001b[0mc\u001b[0m \u001b[0;34m=\u001b[0m \u001b[0mtemp\u001b[0m\u001b[0;34m.\u001b[0m\u001b[0mto_celsius\u001b[0m\u001b[0;34m(\u001b[0m\u001b[0mf\u001b[0m\u001b[0;34m)\u001b[0m\u001b[0;34m\u001b[0m\u001b[0;34m\u001b[0m\u001b[0m\n\u001b[0m\u001b[1;32m      2\u001b[0m \u001b[0mf\u001b[0m \u001b[0;34m=\u001b[0m \u001b[0mtemp\u001b[0m\u001b[0;34m.\u001b[0m\u001b[0mto_fahrenheit\u001b[0m\u001b[0;34m(\u001b[0m\u001b[0mc\u001b[0m\u001b[0;34m)\u001b[0m\u001b[0;34m\u001b[0m\u001b[0;34m\u001b[0m\u001b[0m\n",
            "\u001b[0;31mNameError\u001b[0m: name 'f' is not defined"
          ]
        }
      ]
    },
    {
      "cell_type": "code",
      "source": [
        "import temperature\n",
        "help(temperature)"
      ],
      "metadata": {
        "colab": {
          "base_uri": "https://localhost:8080/"
        },
        "id": "g5fEe258BAu6",
        "outputId": "13fbe0d2-d0fe-49a8-b67f-67820dc41e5a"
      },
      "execution_count": null,
      "outputs": [
        {
          "output_type": "stream",
          "name": "stdout",
          "text": [
            "Help on module temperature:\n",
            "\n",
            "NAME\n",
            "    temperature\n",
            "\n",
            "DESCRIPTION\n",
            "    # How to create and use modules p. 114-115\n",
            "    #!/usr/bin/env python3\n",
            "\n",
            "FUNCTIONS\n",
            "    main()\n",
            "        # the main() function is used to test the other functions\n",
            "        # the code isn't run if the this module isn't the main module\n",
            "    \n",
            "    to_celsius(fahrenheit)\n",
            "        # The code in the module that's stored in the temperature.py file\n",
            "    \n",
            "    to_fahrenheit(celsius)\n",
            "\n",
            "FILE\n",
            "    /content/temperature.py\n",
            "\n",
            "\n"
          ]
        }
      ]
    },
    {
      "cell_type": "markdown",
      "source": [
        "/content/temperature.py"
      ],
      "metadata": {
        "id": "cJUBfs3_U2R_"
      }
    },
    {
      "cell_type": "code",
      "source": [
        "import temperature as temp\n",
        "help(temperature)"
      ],
      "metadata": {
        "colab": {
          "base_uri": "https://localhost:8080/"
        },
        "id": "NmdfAwoAS0na",
        "outputId": "bf453b8e-29f7-454c-f1c0-92308b58f561"
      },
      "execution_count": null,
      "outputs": [
        {
          "output_type": "stream",
          "name": "stdout",
          "text": [
            "Help on module temperature:\n",
            "\n",
            "NAME\n",
            "    temperature\n",
            "\n",
            "DESCRIPTION\n",
            "    # How to create and use modules p. 114-115\n",
            "    #!/usr/bin/env python3\n",
            "    ###\n",
            "    # The code in the module that's stored in the temperature.py file\n",
            "    # Accepts degree Fahrenheit (fahrenheit argument)\n",
            "    #  Returns degrees Celsius\n",
            "    ###\n",
            "\n",
            "FUNCTIONS\n",
            "    main()\n",
            "        # the main() function is used to test the other functions\n",
            "        # the code isn't run if the this module isn't the main module\n",
            "    \n",
            "    to_celsius(fahrenheit)\n",
            "    \n",
            "    to_fahrenheit(celsius)\n",
            "\n",
            "FILE\n",
            "    /content/temperature.py\n",
            "\n",
            "\n"
          ]
        }
      ]
    },
    {
      "cell_type": "code",
      "source": [
        "import temperature as temp\n",
        "\n",
        "def display_menu():\n",
        "  print(\"Menu\")\n",
        "  print(\"1. Fahrenheit to Celsius\")\n",
        "  print(\"2. Celsius to Fahrenheit\")\n",
        "  print()\n",
        "\n",
        "def convert_temp():\n",
        "  option = int(input(\"Enter a menu option:  \"))\n",
        "  if option == 1:\n",
        "    f = int(input(\"Enter degrees Fahrenheit:  \"))\n",
        "    c = temp.to_celsius(f)\n",
        "    c = round(c, 2)\n",
        "    print(\"Degrees Celsius:\", c)\n",
        "  elif option == 2:\n",
        "    c = int(input(\"Enter degrees Celsius:  \"))\n",
        "    f = temp.to_fahrenheit(c)\n",
        "    f = round(f, 2)\n",
        "    print(\"Degrees Fahrenheit: \", f)\n",
        "  else:\n",
        "      print(\"You must enter a valid menu number.\")\n",
        "\n",
        "def main():\n",
        "  display_menu()\n",
        "  again = \"y\"\n",
        "  while again.lower() == \"y\":\n",
        "    convert_temp()\n",
        "    print()\n",
        "    again = input(\"Convert another temperature? (y/n): \")\n",
        "    print()\n",
        "    print(\"Bye!\")\n",
        "  if __name__ == \"__main__ \":\n",
        "    main()"
      ],
      "metadata": {
        "id": "6uP_0UKwS0fn"
      },
      "execution_count": null,
      "outputs": []
    },
    {
      "cell_type": "code",
      "source": [
        ""
      ],
      "metadata": {
        "id": "HJuPkM1QTa4o"
      },
      "execution_count": null,
      "outputs": []
    }
  ]
}