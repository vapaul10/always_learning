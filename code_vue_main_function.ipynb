{
  "nbformat": 4,
  "nbformat_minor": 0,
  "metadata": {
    "colab": {
      "name": "Copy of main_function.ipynb",
      "provenance": [],
      "collapsed_sections": [],
      "authorship_tag": "ABX9TyOQbtr1df5D//B3eAqxOtm7",
      "include_colab_link": true
    },
    "kernelspec": {
      "name": "python3",
      "display_name": "Python 3"
    }
  },
  "cells": [
    {
      "cell_type": "markdown",
      "metadata": {
        "id": "view-in-github",
        "colab_type": "text"
      },
      "source": [
        "<a href=\"https://colab.research.google.com/github/vapaul10/always_learning/blob/master/code_vue_main_function.ipynb\" target=\"_parent\"><img src=\"https://colab.research.google.com/assets/colab-badge.svg\" alt=\"Open In Colab\"/></a>"
      ]
    },
    {
      "cell_type": "markdown",
      "metadata": {
        "id": "xwW9U0Ckpt1I"
      },
      "source": [
        "main function define"
      ]
    },
    {
      "cell_type": "code",
      "metadata": {
        "id": "T3Ja2JMabB6o"
      },
      "source": [
        "import sys\n",
        "# import numpy as np\n",
        "# import pandas as pd\n",
        "# from sklearn import ...\n",
        "\n",
        "for line in sys.stdin:\n",
        "    print(line, end=\"\")\n"
      ],
      "execution_count": null,
      "outputs": []
    },
    {
      "cell_type": "code",
      "metadata": {
        "id": "mI8FsYkXps2_"
      },
      "source": [
        "# #\"\"\" File: computesquare.py\"\"\"\n",
        "# \"\"\" Illustrates the definition of a main function.  \"\"\"\n",
        "\n",
        "def main():\n",
        "    \"\"\"The main function for this script.\"\"\"\n",
        "    number = float(input(\"Enter a number: \"))\n",
        "    result = square(number)\n",
        "    print(\"The square of\", number, \"is\", result)\n"
      ],
      "execution_count": null,
      "outputs": []
    },
    {
      "cell_type": "code",
      "metadata": {
        "id": "6OMVxdDzbdvo"
      },
      "source": [
        "\n",
        "def square(x):    \n",
        "    \"\"\"Returns the square of x.\"\"\"\n",
        "    return x * x\n"
      ],
      "execution_count": null,
      "outputs": []
    },
    {
      "cell_type": "code",
      "metadata": {
        "id": "-cjtl-m8bfJU"
      },
      "source": [
        "#The entry point for program execution\n",
        "#if __name__ == \"__main:\" __\n",
        "#if __name__ == \"__main:\" __\n"
      ],
      "execution_count": null,
      "outputs": []
    },
    {
      "cell_type": "code",
      "metadata": {
        "id": "f8gJy81ecy9-"
      },
      "source": [
        "def Squares(n):\n",
        "  squareList = []\n",
        "  if type(n) is int and n > 0:\n",
        "    squareList = map(square, range(1, n+1))\n",
        "    \n",
        "    return squareList\n",
        "    print(\"The square of\", squareList, \"is\")"
      ],
      "execution_count": null,
      "outputs": []
    },
    {
      "cell_type": "code",
      "metadata": {
        "colab": {
          "base_uri": "https://localhost:8080/"
        },
        "id": "8qPfElcXhANC",
        "outputId": "134bac86-3aea-47ae-d1a4-9be0374d42a1"
      },
      "source": [
        "print(\"Enter 'exit' when you are done. \\n\")\n",
        "while True:\n",
        "  data = input(\"Enter an integer you'd like squared:   \\n\")\n",
        "  if data == \"exit\":\n",
        "    break\n",
        "  i = int(data)\n",
        "  print(i, \"squared is \", i * i, \"\\n\")\n",
        "  print(\"Okay! Ready for another integer to be squared.  Or enter the word 'exit' (all lower case) and Goodbye! \\n\")\n"
      ],
      "execution_count": null,
      "outputs": [
        {
          "name": "stdout",
          "output_type": "stream",
          "text": [
            "Enter 'exit' when you are done. \n",
            "\n",
            "Enter an integer you'd like squared:   \n",
            "7\n",
            "7 squared is  49 \n",
            "\n",
            "Okay! Ready for another integer to be squared.  Or enter the word 'exit' (all lower case) and Goodbye! \n",
            "\n",
            "Enter an integer you'd like squared:   \n",
            "exit\n"
          ]
        }
      ]
    }
  ]
}