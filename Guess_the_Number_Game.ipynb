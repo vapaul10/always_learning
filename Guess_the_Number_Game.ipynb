{
  "nbformat": 4,
  "nbformat_minor": 0,
  "metadata": {
    "colab": {
      "name": "Guess the Number Game.ipynb",
      "provenance": [],
      "collapsed_sections": [],
      "authorship_tag": "ABX9TyNcMf/Qcn7PRVxNwvJv7GYL",
      "include_colab_link": true
    },
    "kernelspec": {
      "name": "python3",
      "display_name": "Python 3"
    },
    "language_info": {
      "name": "python"
    }
  },
  "cells": [
    {
      "cell_type": "markdown",
      "metadata": {
        "id": "view-in-github",
        "colab_type": "text"
      },
      "source": [
        "<a href=\"https://colab.research.google.com/github/vapaul10/always_learning/blob/master/Guess_the_Number_Game.ipynb\" target=\"_parent\"><img src=\"https://colab.research.google.com/assets/colab-badge.svg\" alt=\"Open In Colab\"/></a>"
      ]
    },
    {
      "cell_type": "markdown",
      "source": [
        "##### !/usr/bin/env python3"
      ],
      "metadata": {
        "id": "xIeKB0ABthhT"
      }
    },
    {
      "cell_type": "markdown",
      "source": [
        "###### Guess the Number Game (p.124-125) "
      ],
      "metadata": {
        "id": "A-b65Kw4cU44"
      }
    },
    {
      "cell_type": "code",
      "source": [
        "import random"
      ],
      "metadata": {
        "id": "8UdSdxn1LjW-"
      },
      "execution_count": 47,
      "outputs": []
    },
    {
      "cell_type": "code",
      "source": [
        "LIMIT = 10"
      ],
      "metadata": {
        "id": "s28hpbIkcnD1"
      },
      "execution_count": 48,
      "outputs": []
    },
    {
      "cell_type": "code",
      "source": [
        "def display_title():\n",
        "  print(\"Guess the number!\")\n",
        "  print()"
      ],
      "metadata": {
        "id": "YjA4lFTkdK_y"
      },
      "execution_count": 49,
      "outputs": []
    },
    {
      "cell_type": "code",
      "source": [
        "def play_game():\n",
        "  number = random.randint(1, LIMIT)\n",
        "  print(\"I am thinking of a number from 1 to \" + str(LIMIT) + \"\\n\")\n",
        "  count = 1\n",
        "  while True:\n",
        "    guess = int(input(\"Your guess:  \"))\n",
        "    if guess < number:\n",
        "      print(\"Too low.\")\n",
        "      count += 1\n",
        "    elif guess > number:\n",
        "      print(\"Too high.\")\n",
        "      count += 1\n",
        "    elif guess == number:\n",
        "      print(\"You guessed it in \" + str(count) + \" tries. \\n\")\n",
        "      return"
      ],
      "metadata": {
        "id": "X8g6UanjIslW"
      },
      "execution_count": 50,
      "outputs": []
    },
    {
      "cell_type": "code",
      "source": [
        "def main():\n",
        "  display_title()\n",
        "  again = \"y\"\n",
        "  while again.lower() == \"y\":\n",
        "    play_game()\n",
        "    again = input(\"Would you like to try again? (y/n):  \")\n",
        "    print()\n",
        "  print(\"Bye!\")"
      ],
      "metadata": {
        "id": "tQwMtL7uKV_Q"
      },
      "execution_count": 51,
      "outputs": []
    },
    {
      "cell_type": "markdown",
      "source": [
        "##### if started as the main module, call the main() function"
      ],
      "metadata": {
        "id": "ddnC9ND4LBFg"
      }
    },
    {
      "cell_type": "code",
      "source": [
        "if __name__ == \"__main__\":\n",
        "  main()"
      ],
      "metadata": {
        "colab": {
          "base_uri": "https://localhost:8080/"
        },
        "id": "ox_pjBmyHm0x",
        "outputId": "56c82e80-cbd1-4938-abaa-c8e5ed13f9c1"
      },
      "execution_count": 52,
      "outputs": [
        {
          "output_type": "stream",
          "name": "stdout",
          "text": [
            "Guess the number!\n",
            "\n",
            "I am thinking of a number from 1 to 10\n",
            "\n",
            "Your guess:  3\n",
            "Too low.\n",
            "Your guess:  6\n",
            "Too high.\n",
            "Your guess:  5\n",
            "Too high.\n",
            "Your guess:  4\n",
            "You guessed it in 4 tries. \n",
            "\n",
            "Would you like to try again? (y/n):  y\n",
            "\n",
            "I am thinking of a number from 1 to 10\n",
            "\n",
            "Your guess:  6\n",
            "Too low.\n",
            "Your guess:  8\n",
            "Too low.\n",
            "Your guess:  9\n",
            "Too low.\n",
            "Your guess:  10\n",
            "You guessed it in 4 tries. \n",
            "\n",
            "Would you like to try again? (y/n):  n\n",
            "\n",
            "Bye!\n"
          ]
        }
      ]
    }
  ]
}