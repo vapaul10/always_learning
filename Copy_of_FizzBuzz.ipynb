{
  "nbformat": 4,
  "nbformat_minor": 0,
  "metadata": {
    "colab": {
      "name": "Copy of FizzBuzz.ipynb",
      "provenance": [],
      "authorship_tag": "ABX9TyM3EiifdkxJL/BOVqEANtsV",
      "include_colab_link": true
    },
    "kernelspec": {
      "name": "python3",
      "display_name": "Python 3"
    },
    "language_info": {
      "name": "python"
    }
  },
  "cells": [
    {
      "cell_type": "markdown",
      "metadata": {
        "id": "view-in-github",
        "colab_type": "text"
      },
      "source": [
        "<a href=\"https://colab.research.google.com/github/vapaul10/always_learning/blob/master/Copy_of_FizzBuzz.ipynb\" target=\"_parent\"><img src=\"https://colab.research.google.com/assets/colab-badge.svg\" alt=\"Open In Colab\"/></a>"
      ]
    },
    {
      "cell_type": "code",
      "execution_count": 4,
      "metadata": {
        "id": "6LfvmyAXDUmU"
      },
      "outputs": [],
      "source": [
        "#!/usr/bin/env python\n",
        "# -*- coding:  utf-8 -*-\n",
        "\"\"\"The module provides two functions, fizzbuzz and fizzbuzz_extended\n",
        "\"\"\"\n",
        "from __future__ import print_function\n",
        "import os\n",
        "os\n",
        "\n",
        "\n",
        "def fizzbuzz(n):\n",
        "  \"\"\"return a fizzbuzz-formatted representation of n\"\"\"\n",
        "  if n == 0:\n",
        "    return str(0)\n",
        "  out = ''\n",
        "  if not n % 3:\n",
        "    out += 'Fizz'\n",
        "  if not n % 5:\n",
        "    out += 'Buzz'\n",
        "  if not out:\n",
        "    out = str(n)\n",
        "  return out\n",
        "\n",
        "\n",
        "  def fizzbuzz_extended(n, additional={}):\n",
        "    \"\"\"return a fizzbuzz-formatted representation of n, with extensions\n",
        "\n",
        "    If passed, the 'additional' arg should be a dictionary keyed by integer with \n",
        "    value being the desired string substitution for that integer\n",
        "    \"\"\"\n",
        "    if n == 0:\n",
        "      return str(0)\n",
        "    base = {3: 'Fizz', 5:'Buzz'}\n",
        "    base.update(additional)\n",
        "    out = ''\n",
        "    for x in sorted(based.iterkeys()):\n",
        "      if not n % x:\n",
        "        out +- base[x]\n",
        "    if not out:\n",
        "      out = str(n)\n",
        "    return out\n",
        "\n",
        "\n",
        "  if __name__ == '__main__':\n",
        "    print(\"FizzBuzz Produces\")\n",
        "    for i in xrange(100):\n",
        "      print(fizz(i), end=\" \")\n",
        "    print()\n",
        "    others = {7: 'Sizz', 11: 'Elzz'}\n",
        "    for i in xrange(100):\n",
        "      print(fizzbuzz_extended(i, others),end=\"\")\n",
        "    print()\n"
      ]
    },
    {
      "cell_type": "code",
      "source": [
        ""
      ],
      "metadata": {
        "id": "wPQTVkhUJJSt"
      },
      "execution_count": 4,
      "outputs": []
    }
  ]
}